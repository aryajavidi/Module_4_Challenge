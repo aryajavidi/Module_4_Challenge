{
 "cells": [
  {
   "cell_type": "markdown",
   "id": "9c960cd6-a10b-4e3d-ba23-fe7a3ef7ae95",
   "metadata": {
    "id": "9c960cd6-a10b-4e3d-ba23-fe7a3ef7ae95"
   },
   "source": [
    "### Import required dependencies"
   ]
  },
  {
   "cell_type": "code",
   "execution_count": 26,
   "id": "34266c40-c789-42cd-802f-83eedddc4138",
   "metadata": {
    "id": "34266c40-c789-42cd-802f-83eedddc4138"
   },
   "outputs": [],
   "source": [
    "import pandas as pd\n",
    "pd.options.mode.chained_assignment = None  # default='warn'\n",
    "import os"
   ]
  },
  {
   "cell_type": "markdown",
   "id": "a47f3bec-4c1a-4b1e-9747-546678c1bb82",
   "metadata": {
    "id": "a47f3bec-4c1a-4b1e-9747-546678c1bb82"
   },
   "source": [
    "## Deliverable 1: Collect the Data\n",
    "\n",
    "To collect the data that you’ll need, complete the following steps:\n",
    "\n",
    "1. Using the Pandas `read_csv` function and the `os` module, import the data from the `new_full_student_data.csv` file, and create a DataFrame called student_df. \n",
    "\n",
    "2. Use the head function to confirm that Pandas properly imported the data.\n"
   ]
  },
  {
   "cell_type": "code",
   "execution_count": 27,
   "id": "b9d76875-49a9-4591-83d6-2e784bffcb21",
   "metadata": {
    "id": "b9d76875-49a9-4591-83d6-2e784bffcb21"
   },
   "outputs": [],
   "source": [
    "# Create the path and import the data\n",
    "full_student_data = os.path.join(\"Resources\", \"new_full_student_data.csv\")\n",
    "student_df = pd.read_csv(full_student_data)"
   ]
  },
  {
   "cell_type": "code",
   "execution_count": 28,
   "id": "c73ce640-ae34-4d45-9714-40eb55855d94",
   "metadata": {
    "colab": {
     "base_uri": "https://localhost:8080/"
    },
    "id": "c73ce640-ae34-4d45-9714-40eb55855d94",
    "outputId": "e1b4d7db-22d5-4318-aaf4-2601f76eace7"
   },
   "outputs": [
    {
     "name": "stdout",
     "output_type": "stream",
     "text": [
      "       student_id      student_name grade             school_name  \\\n",
      "0       103880842     Travis Martin   9th    Sullivan High School   \n",
      "1        45069750     Michael Brown   9th       Dixon High School   \n",
      "2        45024902   Gabriela Lucero   9th      Wagner High School   \n",
      "3        62582498  Susan Richardson   9th       Silva High School   \n",
      "4        16437227      Sherry Davis  11th      Bowers High School   \n",
      "...           ...               ...   ...                     ...   \n",
      "19509   109236636     Robert Sawyer  12th       Silva High School   \n",
      "19510    63239258      David Herman   9th       Woods High School   \n",
      "19511    95516554        Megan Gill  11th      Wagner High School   \n",
      "19512    65050383        Lori Stone  11th      Bowers High School   \n",
      "19513    34720657       Anna Jensen  12th  Montgomery High School   \n",
      "\n",
      "       reading_score  math_score school_type  school_budget  \n",
      "0               59.0        88.2      Public         961125  \n",
      "1               94.7        73.5     Charter         870334  \n",
      "2               89.0        70.4      Public         846745  \n",
      "3               69.7        80.3      Public         991918  \n",
      "4                NaN        27.5      Public         848324  \n",
      "...              ...         ...         ...            ...  \n",
      "19509           43.3        27.2      Public         991918  \n",
      "19510           52.1        80.4      Public         912243  \n",
      "19511           93.9        84.1      Public         846745  \n",
      "19512           94.6        70.9      Public         848324  \n",
      "19513           82.3        42.4     Charter         893368  \n",
      "\n",
      "[19514 rows x 8 columns]\n"
     ]
    }
   ],
   "source": [
    "# Verify that the data was properly imported\n",
    "print (student_df)"
   ]
  },
  {
   "cell_type": "markdown",
   "id": "d7f4b183-8e6a-4d83-9d40-a5fd665ac07f",
   "metadata": {
    "id": "d7f4b183-8e6a-4d83-9d40-a5fd665ac07f"
   },
   "source": [
    "## Deliverable 2: Prepare the Data\n",
    "\n",
    "To prepare and clean your data for analysis, complete the following steps:\n",
    "    \n",
    "1. Check for and remove all rows with `NaN`, or missing, values in the student DataFrame. \n",
    "\n",
    "2. Check for and remove all duplicate rows in the student DataFrame.\n",
    "\n",
    "3. Use the `str.replace` function to remove the \"th\" from the grade levels in the grade column.\n",
    "\n",
    "4. Check data types using the `dtypes` property.\n",
    "\n",
    "5. Remove the \"th\" suffix from every value in the grade column using `str` and `replace`.\n",
    "\n",
    "6. Change the grade colum to the `int` type and verify column types.\n",
    "\n",
    "7. Use the head (and/or the tail) function to preview the DataFrame."
   ]
  },
  {
   "cell_type": "code",
   "execution_count": 29,
   "id": "9464841c",
   "metadata": {
    "colab": {
     "base_uri": "https://localhost:8080/"
    },
    "id": "9464841c",
    "outputId": "ec031543-76e9-4c54-ef30-98c68c683ba6"
   },
   "outputs": [
    {
     "data": {
      "text/plain": [
       "student_id          0\n",
       "student_name        0\n",
       "grade               0\n",
       "school_name         0\n",
       "reading_score    1968\n",
       "math_score        982\n",
       "school_type         0\n",
       "school_budget       0\n",
       "dtype: int64"
      ]
     },
     "execution_count": 29,
     "metadata": {},
     "output_type": "execute_result"
    }
   ],
   "source": [
    "# Check for null values\n",
    "student_df.isnull().sum()"
   ]
  },
  {
   "cell_type": "code",
   "execution_count": 30,
   "id": "ab80d5e8-0294-459e-9d68-19d7fe98c75e",
   "metadata": {
    "colab": {
     "base_uri": "https://localhost:8080/"
    },
    "id": "ab80d5e8-0294-459e-9d68-19d7fe98c75e",
    "outputId": "5c5610b2-c7b8-41d4-e280-ceb64cd98e72"
   },
   "outputs": [
    {
     "data": {
      "text/plain": [
       "student_id       0\n",
       "student_name     0\n",
       "grade            0\n",
       "school_name      0\n",
       "reading_score    0\n",
       "math_score       0\n",
       "school_type      0\n",
       "school_budget    0\n",
       "dtype: int64"
      ]
     },
     "execution_count": 30,
     "metadata": {},
     "output_type": "execute_result"
    }
   ],
   "source": [
    "# Drop rows with null values and verify removal\n",
    "student_df = student_df.dropna()\n",
    "student_df.isnull().sum()"
   ]
  },
  {
   "cell_type": "code",
   "execution_count": 31,
   "id": "2292509a-c429-45e2-aa62-bb0397091c76",
   "metadata": {
    "colab": {
     "base_uri": "https://localhost:8080/"
    },
    "id": "2292509a-c429-45e2-aa62-bb0397091c76",
    "outputId": "48351f34-d9a2-4cf6-906f-ce75029f80ea"
   },
   "outputs": [
    {
     "data": {
      "text/plain": [
       "1836"
      ]
     },
     "execution_count": 31,
     "metadata": {},
     "output_type": "execute_result"
    }
   ],
   "source": [
    "# Check for duplicated rows\n",
    "student_df.duplicated().sum()"
   ]
  },
  {
   "cell_type": "code",
   "execution_count": 32,
   "id": "95c0c53e-602f-44a0-b72a-3383dcce09fc",
   "metadata": {
    "colab": {
     "base_uri": "https://localhost:8080/"
    },
    "id": "95c0c53e-602f-44a0-b72a-3383dcce09fc",
    "outputId": "2091d140-72f5-4a4e-c386-888835a39241"
   },
   "outputs": [
    {
     "data": {
      "text/plain": [
       "0"
      ]
     },
     "execution_count": 32,
     "metadata": {},
     "output_type": "execute_result"
    }
   ],
   "source": [
    "# Drop duplicated rows and verify removal\n",
    "student_df = student_df.drop_duplicates()\n",
    "student_df.duplicated().sum()"
   ]
  },
  {
   "cell_type": "code",
   "execution_count": 33,
   "id": "d04088bb-df5a-47b0-990a-c6127bfc9bfd",
   "metadata": {
    "colab": {
     "base_uri": "https://localhost:8080/"
    },
    "id": "d04088bb-df5a-47b0-990a-c6127bfc9bfd",
    "outputId": "11c25281-c23b-4a9f-d472-3e3f760204aa"
   },
   "outputs": [
    {
     "name": "stdout",
     "output_type": "stream",
     "text": [
      "student_id         int64\n",
      "student_name      object\n",
      "grade             object\n",
      "school_name       object\n",
      "reading_score    float64\n",
      "math_score       float64\n",
      "school_type       object\n",
      "school_budget      int64\n",
      "dtype: object\n"
     ]
    }
   ],
   "source": [
    "# Check data types\n",
    "print(student_df.dtypes)"
   ]
  },
  {
   "cell_type": "code",
   "execution_count": 34,
   "id": "f1e2d12e-c56d-47bc-b9a0-01f97400c4a3",
   "metadata": {
    "colab": {
     "base_uri": "https://localhost:8080/"
    },
    "id": "f1e2d12e-c56d-47bc-b9a0-01f97400c4a3",
    "outputId": "c34354ef-5963-4715-b51b-7d14c12448db"
   },
   "outputs": [
    {
     "name": "stdout",
     "output_type": "stream",
     "text": [
      "0         9th\n",
      "1         9th\n",
      "2         9th\n",
      "3         9th\n",
      "5         9th\n",
      "         ... \n",
      "19508    10th\n",
      "19509    12th\n",
      "19511    11th\n",
      "19512    11th\n",
      "19513    12th\n",
      "Name: grade, Length: 14831, dtype: object\n"
     ]
    }
   ],
   "source": [
    "# Examine the grade column to understand why it is not an int\n",
    "print(student_df['grade'])"
   ]
  },
  {
   "cell_type": "code",
   "execution_count": 35,
   "id": "29b32018",
   "metadata": {
    "colab": {
     "base_uri": "https://localhost:8080/"
    },
    "id": "29b32018",
    "outputId": "1705a49d-230f-4c7d-f832-03e6ef4af06a"
   },
   "outputs": [
    {
     "name": "stdout",
     "output_type": "stream",
     "text": [
      "0         9\n",
      "1         9\n",
      "2         9\n",
      "3         9\n",
      "5         9\n",
      "         ..\n",
      "19508    10\n",
      "19509    12\n",
      "19511    11\n",
      "19512    11\n",
      "19513    12\n",
      "Name: grade, Length: 14831, dtype: object\n"
     ]
    }
   ],
   "source": [
    "# Remove the non-numeric characters and verify the contents of the column\n",
    "student_df['grade'] = student_df['grade'].str.replace(\"th\", \"\") \n",
    "print(student_df['grade'])"
   ]
  },
  {
   "cell_type": "code",
   "execution_count": 36,
   "id": "09ebbec2-c5a7-49a9-9a21-f86c0f4c3791",
   "metadata": {
    "colab": {
     "base_uri": "https://localhost:8080/"
    },
    "id": "09ebbec2-c5a7-49a9-9a21-f86c0f4c3791",
    "outputId": "21f5c8ba-bd47-4de0-97b0-3196e97e25fc"
   },
   "outputs": [
    {
     "name": "stdout",
     "output_type": "stream",
     "text": [
      "student_id         int64\n",
      "student_name      object\n",
      "grade              int32\n",
      "school_name       object\n",
      "reading_score    float64\n",
      "math_score       float64\n",
      "school_type       object\n",
      "school_budget      int64\n",
      "dtype: object\n"
     ]
    }
   ],
   "source": [
    "# Change the grade column to the int type and verify column types\n",
    "student_df['grade'] = student_df['grade'].astype(str).astype(int)\n",
    "print(student_df.dtypes)"
   ]
  },
  {
   "cell_type": "code",
   "execution_count": 37,
   "id": "YuAMHlNE5ieu",
   "metadata": {
    "colab": {
     "base_uri": "https://localhost:8080/"
    },
    "id": "YuAMHlNE5ieu",
    "outputId": "3df24cdb-8cb5-42b8-96f3-4cfbcace0010"
   },
   "outputs": [
    {
     "name": "stdout",
     "output_type": "stream",
     "text": [
      "       student_id      student_name  grade             school_name  \\\n",
      "0       103880842     Travis Martin      9    Sullivan High School   \n",
      "1        45069750     Michael Brown      9       Dixon High School   \n",
      "2        45024902   Gabriela Lucero      9      Wagner High School   \n",
      "3        62582498  Susan Richardson      9       Silva High School   \n",
      "5        74579444   Cynthia Johnson      9  Montgomery High School   \n",
      "19508    83985333   Deborah Sanders     10       Silva High School   \n",
      "19509   109236636     Robert Sawyer     12       Silva High School   \n",
      "19511    95516554        Megan Gill     11      Wagner High School   \n",
      "19512    65050383        Lori Stone     11      Bowers High School   \n",
      "19513    34720657       Anna Jensen     12  Montgomery High School   \n",
      "\n",
      "       reading_score  math_score school_type  school_budget  \n",
      "0               59.0        88.2      Public         961125  \n",
      "1               94.7        73.5     Charter         870334  \n",
      "2               89.0        70.4      Public         846745  \n",
      "3               69.7        80.3      Public         991918  \n",
      "5               63.5        76.9     Charter         893368  \n",
      "19508           60.5        64.6      Public         991918  \n",
      "19509           43.3        27.2      Public         991918  \n",
      "19511           93.9        84.1      Public         846745  \n",
      "19512           94.6        70.9      Public         848324  \n",
      "19513           82.3        42.4     Charter         893368  \n"
     ]
    },
    {
     "name": "stderr",
     "output_type": "stream",
     "text": [
      "C:\\Users\\aryaj\\AppData\\Local\\Temp\\ipykernel_5808\\884200504.py:2: FutureWarning: The frame.append method is deprecated and will be removed from pandas in a future version. Use pandas.concat instead.\n",
      "  print(student_df.head().append(student_df.tail()))\n"
     ]
    }
   ],
   "source": [
    "#Use the head (and/or the tail) function to preview the DataFrame.\n",
    "print(student_df.head().append(student_df.tail()))"
   ]
  },
  {
   "cell_type": "markdown",
   "id": "e52c4a6f-7dd7-4bb6-8f75-5f0995e7b32b",
   "metadata": {
    "id": "e52c4a6f-7dd7-4bb6-8f75-5f0995e7b32b"
   },
   "source": [
    "## Deliverable 3: Summarize the Data\n",
    "\n",
    "Describe the data using summary statistics on the data as a whole and on individual columns.\n",
    "\n",
    "1. Generate the summary statistics for each DataFrame by using the `describe` function.\n",
    "\n",
    "2. Display the mean math score using the `mean` function. \n",
    "\n",
    "2. Store the minimum reading score as `min_reading_score`."
   ]
  },
  {
   "cell_type": "code",
   "execution_count": 38,
   "id": "ac4fc0af-babd-47fb-9962-66727ea0dc28",
   "metadata": {
    "colab": {
     "base_uri": "https://localhost:8080/"
    },
    "id": "ac4fc0af-babd-47fb-9962-66727ea0dc28",
    "outputId": "52210e94-57eb-44e4-fc99-543219bf473d"
   },
   "outputs": [
    {
     "name": "stdout",
     "output_type": "stream",
     "text": [
      "         student_id         grade  reading_score    math_score  school_budget\n",
      "count  1.483100e+04  14831.000000   14831.000000  14831.000000   14831.000000\n",
      "mean   6.975296e+07     10.355539      72.357865     64.675733  893742.749107\n",
      "std    3.452909e+07      1.097728      15.224590     15.844093   53938.066467\n",
      "min    1.000906e+07      9.000000      10.500000      3.700000  817615.000000\n",
      "25%    3.984433e+07      9.000000      62.200000     54.500000  846745.000000\n",
      "50%    6.965978e+07     10.000000      73.800000     65.300000  893368.000000\n",
      "75%    9.927449e+07     11.000000      84.000000     76.000000  956438.000000\n",
      "max    1.299997e+08     12.000000     100.000000    100.000000  991918.000000\n"
     ]
    }
   ],
   "source": [
    "# Display summary statistics for the DataFrame\n",
    "print(student_df.describe())"
   ]
  },
  {
   "cell_type": "code",
   "execution_count": 39,
   "id": "d94aa5d1",
   "metadata": {
    "colab": {
     "base_uri": "https://localhost:8080/"
    },
    "id": "d94aa5d1",
    "outputId": "4229e4f9-6033-4101-bdf4-9c0c13ae3357"
   },
   "outputs": [
    {
     "name": "stdout",
     "output_type": "stream",
     "text": [
      "64.67573326141189\n"
     ]
    }
   ],
   "source": [
    "# Display the mean math score using the mean function\n",
    "print(student_df['math_score'].mean())"
   ]
  },
  {
   "cell_type": "code",
   "execution_count": 40,
   "id": "37ecf181",
   "metadata": {
    "colab": {
     "base_uri": "https://localhost:8080/"
    },
    "id": "37ecf181",
    "outputId": "ed672b06-1f22-493d-d3e8-95d8040eaafc"
   },
   "outputs": [
    {
     "name": "stdout",
     "output_type": "stream",
     "text": [
      "10.5\n"
     ]
    }
   ],
   "source": [
    "# Store the minimum reading score as min_reading_score\n",
    "min_reading_score = (student_df['reading_score'].min())\n",
    "print(min_reading_score)"
   ]
  },
  {
   "cell_type": "markdown",
   "id": "e871f21e-6077-4d70-9c3a-926759d46bed",
   "metadata": {
    "id": "e871f21e-6077-4d70-9c3a-926759d46bed"
   },
   "source": [
    "## Deliverable 4: Drill Down into the Data\n",
    "\n",
    "Drill down to specific rows, columns, and subsets of the data.\n",
    "\n",
    "To drill down into the data, complete the following steps:\n",
    "\n",
    "1. Use `loc` to display the grade column.\n",
    "\n",
    "2. Use `iloc` to display the first 3 rows and columns 3, 4, and 5.\n",
    "\n",
    "3. Show the rows for grade nine using `loc`.\n",
    "\n",
    "4. Store the row with the minimum overall reading score as `min_reading_row` using `loc` and the `min_reading_score` found in Deliverable 3.\n",
    "\n",
    "5. Find the reading scores for the school and grade from the output of step three using `loc` with multiple conditional statements.\n",
    "\n",
    "6. Using conditional statements and `loc` or `iloc`, find the mean reading score for all students in grades 11 and 12 combined."
   ]
  },
  {
   "cell_type": "code",
   "execution_count": 41,
   "id": "78464611",
   "metadata": {
    "colab": {
     "base_uri": "https://localhost:8080/"
    },
    "id": "78464611",
    "outputId": "1a52c0ae-41ac-490b-a244-142edbeef5e8"
   },
   "outputs": [
    {
     "name": "stdout",
     "output_type": "stream",
     "text": [
      "0         9\n",
      "1         9\n",
      "2         9\n",
      "3         9\n",
      "5         9\n",
      "         ..\n",
      "19508    10\n",
      "19509    12\n",
      "19511    11\n",
      "19512    11\n",
      "19513    12\n",
      "Name: grade, Length: 14831, dtype: int32\n"
     ]
    }
   ],
   "source": [
    "# Use loc to display the grade column\n",
    "print(student_df.loc[:, 'grade'])"
   ]
  },
  {
   "cell_type": "code",
   "execution_count": 42,
   "id": "ff0fd7cb",
   "metadata": {
    "colab": {
     "base_uri": "https://localhost:8080/"
    },
    "id": "ff0fd7cb",
    "outputId": "2819b802-0713-4760-bd9e-f6b45781dd72"
   },
   "outputs": [
    {
     "name": "stdout",
     "output_type": "stream",
     "text": [
      "   grade           school_name  reading_score\n",
      "0      9  Sullivan High School           59.0\n",
      "1      9     Dixon High School           94.7\n",
      "2      9    Wagner High School           89.0\n"
     ]
    }
   ],
   "source": [
    "# Use `iloc` to display the first 3 rows and columns 3, 4, and 5.\n",
    "print(student_df.iloc[:, [2,3,4]].head(3))"
   ]
  },
  {
   "cell_type": "code",
   "execution_count": 43,
   "id": "edb8027e",
   "metadata": {
    "colab": {
     "base_uri": "https://localhost:8080/",
     "height": 300
    },
    "id": "edb8027e",
    "outputId": "b9fea79e-5620-477d-eede-3780063c8e4b"
   },
   "outputs": [
    {
     "data": {
      "text/html": [
       "<div>\n",
       "<style scoped>\n",
       "    .dataframe tbody tr th:only-of-type {\n",
       "        vertical-align: middle;\n",
       "    }\n",
       "\n",
       "    .dataframe tbody tr th {\n",
       "        vertical-align: top;\n",
       "    }\n",
       "\n",
       "    .dataframe thead th {\n",
       "        text-align: right;\n",
       "    }\n",
       "</style>\n",
       "<table border=\"1\" class=\"dataframe\">\n",
       "  <thead>\n",
       "    <tr style=\"text-align: right;\">\n",
       "      <th></th>\n",
       "      <th>student_id</th>\n",
       "      <th>grade</th>\n",
       "      <th>reading_score</th>\n",
       "      <th>math_score</th>\n",
       "      <th>school_budget</th>\n",
       "    </tr>\n",
       "  </thead>\n",
       "  <tbody>\n",
       "    <tr>\n",
       "      <th>count</th>\n",
       "      <td>4.132000e+03</td>\n",
       "      <td>4132.0</td>\n",
       "      <td>4132.000000</td>\n",
       "      <td>4132.000000</td>\n",
       "      <td>4132.000000</td>\n",
       "    </tr>\n",
       "    <tr>\n",
       "      <th>mean</th>\n",
       "      <td>6.979441e+07</td>\n",
       "      <td>9.0</td>\n",
       "      <td>69.236713</td>\n",
       "      <td>66.585624</td>\n",
       "      <td>898692.606002</td>\n",
       "    </tr>\n",
       "    <tr>\n",
       "      <th>std</th>\n",
       "      <td>3.470565e+07</td>\n",
       "      <td>0.0</td>\n",
       "      <td>15.277354</td>\n",
       "      <td>16.661533</td>\n",
       "      <td>54891.596611</td>\n",
       "    </tr>\n",
       "    <tr>\n",
       "      <th>min</th>\n",
       "      <td>1.000906e+07</td>\n",
       "      <td>9.0</td>\n",
       "      <td>17.900000</td>\n",
       "      <td>5.300000</td>\n",
       "      <td>817615.000000</td>\n",
       "    </tr>\n",
       "    <tr>\n",
       "      <th>25%</th>\n",
       "      <td>3.953848e+07</td>\n",
       "      <td>9.0</td>\n",
       "      <td>59.000000</td>\n",
       "      <td>56.000000</td>\n",
       "      <td>846745.000000</td>\n",
       "    </tr>\n",
       "    <tr>\n",
       "      <th>50%</th>\n",
       "      <td>6.984037e+07</td>\n",
       "      <td>9.0</td>\n",
       "      <td>70.050000</td>\n",
       "      <td>67.800000</td>\n",
       "      <td>893368.000000</td>\n",
       "    </tr>\n",
       "    <tr>\n",
       "      <th>75%</th>\n",
       "      <td>9.939504e+07</td>\n",
       "      <td>9.0</td>\n",
       "      <td>80.500000</td>\n",
       "      <td>78.500000</td>\n",
       "      <td>957299.000000</td>\n",
       "    </tr>\n",
       "    <tr>\n",
       "      <th>max</th>\n",
       "      <td>1.299997e+08</td>\n",
       "      <td>9.0</td>\n",
       "      <td>99.900000</td>\n",
       "      <td>100.000000</td>\n",
       "      <td>991918.000000</td>\n",
       "    </tr>\n",
       "  </tbody>\n",
       "</table>\n",
       "</div>"
      ],
      "text/plain": [
       "         student_id   grade  reading_score   math_score  school_budget\n",
       "count  4.132000e+03  4132.0    4132.000000  4132.000000    4132.000000\n",
       "mean   6.979441e+07     9.0      69.236713    66.585624  898692.606002\n",
       "std    3.470565e+07     0.0      15.277354    16.661533   54891.596611\n",
       "min    1.000906e+07     9.0      17.900000     5.300000  817615.000000\n",
       "25%    3.953848e+07     9.0      59.000000    56.000000  846745.000000\n",
       "50%    6.984037e+07     9.0      70.050000    67.800000  893368.000000\n",
       "75%    9.939504e+07     9.0      80.500000    78.500000  957299.000000\n",
       "max    1.299997e+08     9.0      99.900000   100.000000  991918.000000"
      ]
     },
     "execution_count": 43,
     "metadata": {},
     "output_type": "execute_result"
    }
   ],
   "source": [
    "# Select the rows for grade nine and display their summary statistics using `loc` and `describe`.\n",
    "student_df.loc[student_df['grade'] == 9].describe()"
   ]
  },
  {
   "cell_type": "code",
   "execution_count": 44,
   "id": "e40b203d-6597-487a-82cf-157731148084",
   "metadata": {
    "colab": {
     "base_uri": "https://localhost:8080/"
    },
    "id": "e40b203d-6597-487a-82cf-157731148084",
    "outputId": "fa516a07-8ced-40f9-c530-07657f58fae4"
   },
   "outputs": [
    {
     "name": "stdout",
     "output_type": "stream",
     "text": [
      "      student_id    student_name  grade        school_name  reading_score  \\\n",
      "3706    81758630  Matthew Thomas     10  Dixon High School           10.5   \n",
      "\n",
      "      math_score school_type  school_budget  \n",
      "3706        58.4     Charter         870334  \n"
     ]
    }
   ],
   "source": [
    "# Store the row with the minimum overall reading score as `min_reading_row`\n",
    "# using `loc` and the `min_reading_score` found in Deliverable 3.\n",
    "min_reading_row = student_df.loc[student_df['reading_score'] == min_reading_score]\n",
    "print(min_reading_row)"
   ]
  },
  {
   "cell_type": "code",
   "execution_count": 45,
   "id": "f4a44f87-acb8-423e-95ca-88e6f644eeb2",
   "metadata": {
    "colab": {
     "base_uri": "https://localhost:8080/"
    },
    "id": "f4a44f87-acb8-423e-95ca-88e6f644eeb2",
    "outputId": "9591e581-2938-4b17-e089-fadbbb9277de"
   },
   "outputs": [
    {
     "name": "stdout",
     "output_type": "stream",
     "text": [
      "45       71.1\n",
      "60       59.5\n",
      "69       88.6\n",
      "94       81.5\n",
      "100      95.3\n",
      "         ... \n",
      "19283    52.9\n",
      "19306    58.0\n",
      "19344    38.0\n",
      "19368    84.4\n",
      "19445    43.9\n",
      "Name: reading_score, Length: 569, dtype: float64\n"
     ]
    }
   ],
   "source": [
    "# Use loc with conditionals to select all reading scores from 10th graders at Dixon High School.\n",
    "#print(student_df.loc[(student_df['grade'] == 10) & (student_df['school_name'] == 'Dixon High School')])\n",
    "print(student_df.loc[(student_df['grade'] == 10) & (student_df['school_name'] == 'Dixon High School'), 'reading_score'])"
   ]
  },
  {
   "cell_type": "code",
   "execution_count": 46,
   "id": "d6c2a244-c8aa-4cf6-a1e2-ddace72666eb",
   "metadata": {
    "colab": {
     "base_uri": "https://localhost:8080/"
    },
    "id": "d6c2a244-c8aa-4cf6-a1e2-ddace72666eb",
    "outputId": "24fa982e-a084-4142-9b22-0965ee0bfb39"
   },
   "outputs": [
    {
     "name": "stdout",
     "output_type": "stream",
     "text": [
      "74.90038089192188\n"
     ]
    }
   ],
   "source": [
    "# Find the mean reading score for all students in grades 11 and 12 combined.\n",
    "print(student_df.loc[(student_df['grade'] >= 11), 'reading_score'].mean())"
   ]
  },
  {
   "cell_type": "markdown",
   "id": "177ba341-9b50-4244-93fa-3646120daf51",
   "metadata": {
    "id": "177ba341-9b50-4244-93fa-3646120daf51"
   },
   "source": [
    "## Deliverable 5: Make Comparisons Between District and Charter Schools\n",
    "\n",
    "Compare district vs charter schools for budget, size, and scores.\n",
    "\n",
    "Make comparisons within your data by completing the following steps:\n",
    "\n",
    "1. Using the `groupby` and `mean` functions, look at the average reading and math scores per school type.\n",
    "\n",
    "1. Using the `groupby` and `count` functions, find the total number of students at each school.\n",
    "\n",
    "2. Using the `groupby` and `mean` functions, find the average budget per grade for each school type."
   ]
  },
  {
   "cell_type": "code",
   "execution_count": 47,
   "id": "8eac115a-c392-446c-ad83-456d0f87eca7",
   "metadata": {
    "colab": {
     "base_uri": "https://localhost:8080/"
    },
    "id": "8eac115a-c392-446c-ad83-456d0f87eca7",
    "outputId": "62da81e7-baf6-4341-dac6-4aa9cdde3939"
   },
   "outputs": [
    {
     "name": "stdout",
     "output_type": "stream",
     "text": [
      "school_type\n",
      "Charter    72.450603\n",
      "Public     72.281219\n",
      "Name: reading_score, dtype: float64\n",
      "school_type\n",
      "Charter    66.761883\n",
      "Public     62.951576\n",
      "Name: math_score, dtype: float64\n"
     ]
    }
   ],
   "source": [
    "# Use groupby and mean to find the average reading and math scores for each school type.\n",
    "print(student_df.groupby(['school_type'])['reading_score'].mean())\n",
    "print(student_df.groupby(['school_type'])['math_score'].mean())"
   ]
  },
  {
   "cell_type": "code",
   "execution_count": 48,
   "id": "a3ee96e8-d653-44b1-811f-979880649046",
   "metadata": {
    "colab": {
     "base_uri": "https://localhost:8080/"
    },
    "id": "a3ee96e8-d653-44b1-811f-979880649046",
    "outputId": "001f969f-5629-4e06-a3d6-c9b03fb85fb2"
   },
   "outputs": [
    {
     "name": "stdout",
     "output_type": "stream",
     "text": [
      "               school_name  count\n",
      "7   Montgomery High School   2038\n",
      "6        Green High School   1961\n",
      "4        Dixon High School   1583\n",
      "13      Wagner High School   1541\n",
      "10       Silva High School   1109\n",
      "14       Woods High School   1052\n",
      "11    Sullivan High School    971\n",
      "12      Turner High School    846\n",
      "0       Bowers High School    803\n",
      "5       Fisher High School    798\n",
      "9      Richard High School    551\n",
      "2       Campos High School    541\n",
      "8     Odonnell High School    459\n",
      "1     Campbell High School    407\n",
      "3        Chang High School    171\n"
     ]
    }
   ],
   "source": [
    "# Use the `groupby`, `count`, and `sort_values` functions to find the\n",
    "# total number of students at each school and sort from most students to least students.\n",
    "#print(student_df.groupby(['school_name'])['school_name'].count())\n",
    "print(student_df.groupby(['school_name'])['school_name'].count().reset_index(name='count').sort_values(['count'], ascending = False))\n"
   ]
  },
  {
   "cell_type": "code",
   "execution_count": 49,
   "id": "3e9018ab-17db-431d-98ef-0c7195b647bb",
   "metadata": {
    "colab": {
     "base_uri": "https://localhost:8080/"
    },
    "id": "3e9018ab-17db-431d-98ef-0c7195b647bb",
    "outputId": "01f193f1-b493-41a2-f369-575b5d08c97f"
   },
   "outputs": [
    {
     "name": "stdout",
     "output_type": "stream",
     "text": [
      "school_type  grade\n",
      "Charter      9        68.676790\n",
      "             10       69.628822\n",
      "             11       80.596379\n",
      "             12       70.475421\n",
      "Public       9        69.687981\n",
      "             10       73.160461\n",
      "             11       73.486448\n",
      "             12       73.342380\n",
      "Name: reading_score, dtype: float64\n"
     ]
    }
   ],
   "source": [
    "#Using the groupby and mean functions, find the average budget per grade for each school type.\n",
    "\n",
    "print(student_df.groupby(['school_type', 'grade'])['reading_score'].mean())"
   ]
  },
  {
   "cell_type": "markdown",
   "id": "bbd0576f-e986-457c-930f-0eb8ee435b57",
   "metadata": {
    "id": "bbd0576f-e986-457c-930f-0eb8ee435b57"
   },
   "source": [
    "# Deliverable 6: Summarize Your Findings\n",
    "In the cell below, write a few sentences to describe any discoveries you made while performing your analysis along with any additional analysis you believe would be worthwhile."
   ]
  },
  {
   "cell_type": "markdown",
   "id": "396f269c-7081-4e43-a203-0a2750b51fa4",
   "metadata": {
    "id": "396f269c-7081-4e43-a203-0a2750b51fa4"
   },
   "source": [
    "While performing this analysis, I was able to identify that charter schools, on average, were found to have higher reading and math scores than public schools, with a mean score of 72.450603 for charter shcools reading score opposed to Public schools mean score of 72.281219. As for math scores, Charter schools had an average of four points higher than public schools. This dataset helps us determine that students attenting charter schools are on average more likely to score higher in reading and math. "
   ]
  }
 ],
 "metadata": {
  "colab": {
   "collapsed_sections": [],
   "provenance": []
  },
  "kernelspec": {
   "display_name": "Python 3 (ipykernel)",
   "language": "python",
   "name": "python3"
  },
  "language_info": {
   "codemirror_mode": {
    "name": "ipython",
    "version": 3
   },
   "file_extension": ".py",
   "mimetype": "text/x-python",
   "name": "python",
   "nbconvert_exporter": "python",
   "pygments_lexer": "ipython3",
   "version": "3.9.12"
  },
  "vscode": {
   "interpreter": {
    "hash": "f4cb014af2bd11f4d72986df4293c049c245645a0277af70172a9bc70d62d2b1"
   }
  }
 },
 "nbformat": 4,
 "nbformat_minor": 5
}
